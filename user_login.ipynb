{
  "cells": [
    {
      "cell_type": "markdown",
      "metadata": {
        "id": "view-in-github",
        "colab_type": "text"
      },
      "source": [
        "<a href=\"https://colab.research.google.com/github/sudharsanprofile/user-login/blob/main/user_login.ipynb\" target=\"_parent\"><img src=\"https://colab.research.google.com/assets/colab-badge.svg\" alt=\"Open In Colab\"/></a>"
      ]
    },
    {
      "cell_type": "code",
      "execution_count": null,
      "metadata": {
        "id": "AT24B5TkouYF"
      },
      "outputs": [],
      "source": [
        "x = open(\"users.txt\",\"x\")\n",
        "x.close()"
      ]
    },
    {
      "cell_type": "code",
      "execution_count": null,
      "metadata": {
        "id": "Bbsu3EGK-kgo"
      },
      "outputs": [],
      "source": [
        "def forgot_pwd():\n",
        "  x = open(\"users.txt\",\"r\")\n",
        "  p = input(\"enter username:\")\n",
        "  a = []\n",
        "  b = []\n",
        "  y = {}\n",
        "  for i in x:\n",
        "    c,d = i.split(\",\")\n",
        "    d = d.strip()\n",
        "    a.append(c)\n",
        "    b.append(d)\n",
        "    y = dict(zip(a,b))\n",
        "\n",
        "  if p in y:\n",
        "    q = y.get(p)\n",
        "    print(\"this is your password:\")\n",
        "    print(q)\n",
        "  else:\n",
        "    print(\"username doesn't match with the database, Please Register\")\n",
        "    register()\n",
        "\n"
      ]
    },
    {
      "cell_type": "code",
      "execution_count": null,
      "metadata": {
        "id": "K33F9IBYo26S"
      },
      "outputs": [],
      "source": [
        "def login():\n",
        "  x = open(\"users.txt\",\"r\")\n",
        "  username = input(\"enter username:\")\n",
        "  password = input(\"enter password:\")\n",
        "\n",
        "  a = []\n",
        "  b = []\n",
        "  y = {}\n",
        "  for i in x:\n",
        "    c,d = i.split(\",\")\n",
        "    d = d.strip()\n",
        "    a.append(c)\n",
        "    b.append(d)\n",
        "    y = dict(zip(a,b))\n",
        "\n",
        "  if username in y:\n",
        "    p = y.get(username)\n",
        "    if password == p:\n",
        "      print(\"you are logged in\")\n",
        "      print(\"hi\")\n",
        "      start_up()\n",
        "\n",
        "    else:\n",
        "      print(\"password does not match\")\n",
        "      option_2()\n",
        "  else:\n",
        "    print(\"username doesn't exist! \\n please register or forgot_password\")\n",
        "    option_2()"
      ]
    },
    {
      "cell_type": "code",
      "execution_count": null,
      "metadata": {
        "id": "04pwMYJguT1N"
      },
      "outputs": [],
      "source": [
        "def option_2(option = None):\n",
        "  option = input(\"For Registration Enter 1|for Forgot Password Enter 2|To Exit Enter 3:\")\n",
        "  if option == \"1\":\n",
        "    register()\n",
        "  elif option == \"2\":\n",
        "    forgot_pwd()\n",
        "  elif option == \"3\":\n",
        "    print(\"bye\")\n",
        "  else:\n",
        "    print(\"Enter a Valid Option\")\n",
        "    option_2()"
      ]
    },
    {
      "cell_type": "code",
      "execution_count": null,
      "metadata": {
        "id": "hEhoDYZNo8yx"
      },
      "outputs": [],
      "source": [
        "def register():\n",
        "  x = open(\"users.txt\",\"r\")\n",
        "  username = input(\"enter username:\")\n",
        "  password = input(\"enter password:\")\n",
        "\n",
        "  check_u(username)\n",
        "  check_p(password)\n",
        "\n",
        "  a = []\n",
        "  b = []\n",
        "  z = {}\n",
        "  for i in x:\n",
        "    c,d = i.split(\",\")\n",
        "    d = d.strip()\n",
        "    a.append(c)\n",
        "    b.append(d)\n",
        "    z = dict(zip(a,b))\n",
        "\n",
        "  if check_u:\n",
        "    if check_p:\n",
        "      if username in z:\n",
        "        print(\"you have already registered\")\n",
        "        start_up()\n",
        "      else:\n",
        "        x = open(\"users.txt\",\"a\")\n",
        "        x.write(username+\",\"+password + \"\\n\")\n",
        "        x.close()\n",
        "        print(\"successfully registered\")\n",
        "        start_up()\n",
        "    else:\n",
        "      print(\"password doesn't satisfy the condition : restart\")\n",
        "      start_up()\n",
        "  else:\n",
        "    print(\"username doesn't satisfy the condition : restart\")\n",
        "    start_up()"
      ]
    },
    {
      "cell_type": "code",
      "execution_count": null,
      "metadata": {
        "id": "wBr5eVcto_19"
      },
      "outputs": [],
      "source": [
        "def check_p(y):\n",
        "  flag = True\n",
        "  special = ['@','$','#','&','%']\n",
        "\n",
        "  if len(y)<6:\n",
        "    print(\"length of password should be greater than 6\")\n",
        "    start_up()\n",
        "  if len(y)>16:\n",
        "    print(\"length of password should be lesser than 16\")\n",
        "    start_up()\n",
        "  if not any(i.isdigit() for i in y):\n",
        "    print(\"password should contain atleast one number\")\n",
        "    start_up()\n",
        "  if not any(i.isupper() for i in y):\n",
        "    print(\"password should contain atleast one uppercase\")\n",
        "    start_up()\n",
        "  if not any(i.islower() for i in y):\n",
        "    print(\"password should contain atleast one lowercase\")\n",
        "    start_up()\n",
        "  if not any(i in special for i in y):\n",
        "    print(\"password should contain atleast one special character\")\n",
        "    start_up()\n",
        "  \n",
        "  return flag"
      ]
    },
    {
      "cell_type": "code",
      "execution_count": null,
      "metadata": {
        "id": "5LUXf5DopEUr"
      },
      "outputs": [],
      "source": [
        "def check_u(x):\n",
        "  flag = True\n",
        "  \n",
        "  if not any(i in (\"@\") for i in x):\n",
        "    print(\"username should contain @ character\")\n",
        "    register()\n",
        "  if not any(i in (\".\") for i in x):\n",
        "    print(\"username should contain . character\")\n",
        "    register()\n",
        "  if not x[0].isdigit:\n",
        "    print(\"username should not start with numbers\")\n",
        "    register()\n",
        "\n",
        "  return flag"
      ]
    },
    {
      "cell_type": "code",
      "execution_count": null,
      "metadata": {
        "id": "uEB7Z14cpG6Z"
      },
      "outputs": [],
      "source": [
        "def start_up(option = None):\n",
        "  print(\"enter a number:\")\n",
        "  option = input(\"1:login|2:register|3:forgot password|4:exit:\")\n",
        "  if option == \"1\":\n",
        "    login()\n",
        "  elif option == \"2\":\n",
        "    register()\n",
        "  elif option == \"3\":\n",
        "    forgot_pwd()\n",
        "  elif option == \"4\":\n",
        "    print(\"see you soon\")\n",
        "    pass\n",
        "  else:\n",
        "    print(\"please enter a valid option\")\n",
        "    start_up()"
      ]
    },
    {
      "cell_type": "code",
      "execution_count": null,
      "metadata": {
        "id": "WAgP3AcPpJNr",
        "colab": {
          "base_uri": "https://localhost:8080/"
        },
        "outputId": "d898d38d-76b3-4df6-b1ec-9ddd15d34141"
      },
      "outputs": [
        {
          "output_type": "stream",
          "name": "stdout",
          "text": [
            "enter a number:\n",
            "1:login|2:register|3:forgot password|4:exit:2\n",
            "enter username:sudharsan@gmail.com\n",
            "enter password:Sudharsan@129\n",
            "successfully registered\n",
            "enter a number:\n",
            "1:login|2:register|3:forgot password|4:exit:4\n",
            "see you soon\n"
          ]
        }
      ],
      "source": [
        "\n",
        "start_up()"
      ]
    }
  ],
  "metadata": {
    "colab": {
      "collapsed_sections": [],
      "name": "user login.ipynb",
      "provenance": [],
      "authorship_tag": "ABX9TyMgzNaaTcRTPaORrlbZGTJd",
      "include_colab_link": true
    },
    "kernelspec": {
      "display_name": "Python 3",
      "name": "python3"
    },
    "language_info": {
      "name": "python"
    }
  },
  "nbformat": 4,
  "nbformat_minor": 0
}